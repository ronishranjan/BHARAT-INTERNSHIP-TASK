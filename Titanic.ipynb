{
  "nbformat": 4,
  "nbformat_minor": 0,
  "metadata": {
    "colab": {
      "name": "Titanic",
      "provenance": [],
      "authorship_tag": "ABX9TyNZPJ4Zgv+WBRUlEeiflXvU",
      "include_colab_link": true
    },
    "kernelspec": {
      "name": "python3",
      "display_name": "Python 3"
    },
    "language_info": {
      "name": "python"
    }
  },
  "cells": [
    {
      "cell_type": "markdown",
      "metadata": {
        "id": "view-in-github",
        "colab_type": "text"
      },
      "source": [
        "<a href=\"https://colab.research.google.com/github/Sagnik220/Titanic-GRADIO/blob/main/Titanic.ipynb\" target=\"_parent\"><img src=\"https://colab.research.google.com/assets/colab-badge.svg\" alt=\"Open In Colab\"/></a>"
      ]
    },
    {
      "cell_type": "code",
      "metadata": {
        "colab": {
          "base_uri": "https://localhost:8080/"
        },
        "id": "eDPTienWbIKm",
        "outputId": "d73b3f5d-466d-4427-c8ff-b80092593e43"
      },
      "source": [
        "!pip install -q gradio"
      ],
      "execution_count": 1,
      "outputs": [
        {
          "output_type": "stream",
          "text": [
            "\u001b[K     |████████████████████████████████| 1.1MB 17.2MB/s \n",
            "\u001b[K     |████████████████████████████████| 215kB 46.4MB/s \n",
            "\u001b[K     |████████████████████████████████| 3.2MB 43.2MB/s \n",
            "\u001b[K     |████████████████████████████████| 71kB 7.9MB/s \n",
            "\u001b[K     |████████████████████████████████| 962kB 44.8MB/s \n",
            "\u001b[?25h  Building wheel for ffmpy (setup.py) ... \u001b[?25l\u001b[?25hdone\n",
            "  Building wheel for Flask-BasicAuth (setup.py) ... \u001b[?25l\u001b[?25hdone\n",
            "  Building wheel for flask-cachebuster (setup.py) ... \u001b[?25l\u001b[?25hdone\n"
          ],
          "name": "stdout"
        }
      ]
    },
    {
      "cell_type": "code",
      "metadata": {
        "id": "Xvy3YQM8bgtP"
      },
      "source": [
        "import gradio as gr\n",
        "import pandas as pd\n",
        "import numpy as np\n",
        "import sklearn\n",
        "from sklearn import preprocessing\n",
        "from sklearn.model_selection import train_test_split\n",
        "from sklearn.ensemble import RandomForestClassifier\n",
        "from sklearn.metrics import accuracy_score"
      ],
      "execution_count": 2,
      "outputs": []
    },
    {
      "cell_type": "code",
      "metadata": {
        "id": "QaakASzRbgzF"
      },
      "source": [
        "def encode_ages(df): # Encoding ages \n",
        "    df.Age = df.Age.fillna(-0.5)\n",
        "    bins = (-1, 0, 5, 12, 18, 25, 35, 60, 120)\n",
        "    categories = pd.cut(df.Age, bins, labels=False)\n",
        "    df.Age = categories\n",
        "    return df\n",
        "\n",
        "def encode_fares(df): # Encoding fares\n",
        "    df.Fare = df.Fare.fillna(-0.5)\n",
        "    bins = (-1, 0, 8, 15, 31, 1000)\n",
        "    categories = pd.cut(df.Fare, bins, labels=False)\n",
        "    df.Fare = categories\n",
        "    return df\n",
        "\n",
        "def encode_sex(df):\n",
        "    mapping = {\"male\": 0, \"female\": 1}\n",
        "    return df.replace({'Sex': mapping})"
      ],
      "execution_count": 3,
      "outputs": []
    },
    {
      "cell_type": "code",
      "metadata": {
        "colab": {
          "base_uri": "https://localhost:8080/"
        },
        "id": "SB_nO4zbbtEt",
        "outputId": "27f45efe-858a-4c14-d646-49616ff7ed0b"
      },
      "source": [
        "import warnings\n",
        "warnings.filterwarnings('ignore')\n",
        "\n",
        "data = pd.read_csv('https://raw.githubusercontent.com/gradio-app/titanic/master/train.csv')\n",
        "\n",
        "def transform_features(df):\n",
        "    df = encode_ages(df)\n",
        "    df = encode_fares(df)\n",
        "    df = encode_sex(df)\n",
        "    return df\n",
        "\n",
        "train = data[['PassengerId', 'Fare', 'Age', 'Sex', 'Survived']]\n",
        "train = transform_features(train)\n",
        "\n",
        "\n",
        "X_all = train.drop(['Survived', 'PassengerId'], axis=1)\n",
        "y_all = train['Survived']\n",
        "\n",
        "num_test = 0.20\n",
        "X_train, X_test, y_train, y_test = train_test_split(X_all, y_all, test_size=num_test, random_state=23)\n",
        "\n",
        "clf = RandomForestClassifier()\n",
        "clf.fit(X_train, y_train)\n",
        "predictions = clf.predict(X_test)\n",
        "print(\"accuracy: \", accuracy_score(y_test, predictions))"
      ],
      "execution_count": 4,
      "outputs": [
        {
          "output_type": "stream",
          "text": [
            "accuracy:  0.8100558659217877\n"
          ],
          "name": "stdout"
        }
      ]
    },
    {
      "cell_type": "code",
      "metadata": {
        "id": "LjC-zdLqbg1N"
      },
      "source": [
        "def predict_survival(sex, age, fare):\n",
        "    df = pd.DataFrame.from_dict({'Sex': [sex], 'Age': [age], 'Fare': [fare]})\n",
        "    df = encode_sex(df)\n",
        "    df = encode_fares(df)\n",
        "    df = encode_ages(df)\n",
        "    pred = clf.predict_proba(df)[0]\n",
        "    return {'Perishes': pred[0], 'Survives': pred[1]}"
      ],
      "execution_count": 5,
      "outputs": []
    },
    {
      "cell_type": "code",
      "metadata": {
        "colab": {
          "base_uri": "https://localhost:8080/",
          "height": 588
        },
        "id": "AWvFt_Ivb08f",
        "outputId": "b394c1f9-21db-4a7a-bfe5-a76fe150b240"
      },
      "source": [
        "sex = gr.inputs.Radio(['female', 'male'], label=\"Sex\")\n",
        "age = gr.inputs.Slider(minimum=0, maximum=120, default=22, label=\"Age\")\n",
        "fare = gr.inputs.Slider(minimum=0, maximum=1000, default=100, label=\"Fare (british pounds)\")\n",
        "\n",
        "gr.Interface(predict_survival, [sex, age, fare], \"label\", live=True).launch();"
      ],
      "execution_count": 6,
      "outputs": [
        {
          "output_type": "stream",
          "text": [
            "Colab notebook detected. To show errors in colab notebook, set `debug=True` in `launch()`\n",
            "This share link will expire in 24 hours. If you need a permanent link, visit: https://gradio.app/introducing-hosted (NEW!)\n",
            "Running on External URL: https://57644.gradio.app\n",
            "Interface loading below...\n"
          ],
          "name": "stdout"
        },
        {
          "output_type": "display_data",
          "data": {
            "text/html": [
              "\n",
              "        <iframe\n",
              "            width=\"1000\"\n",
              "            height=\"500\"\n",
              "            src=\"https://57644.gradio.app\"\n",
              "            frameborder=\"0\"\n",
              "            allowfullscreen\n",
              "        ></iframe>\n",
              "        "
            ],
            "text/plain": [
              "<IPython.lib.display.IFrame at 0x7ff74586dd90>"
            ]
          },
          "metadata": {
            "tags": []
          }
        }
      ]
    }
  ]
}